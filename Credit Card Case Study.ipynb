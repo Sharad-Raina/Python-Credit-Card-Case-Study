{
 "cells": [
  {
   "cell_type": "code",
   "execution_count": 1,
   "id": "17872b06",
   "metadata": {},
   "outputs": [],
   "source": [
    "import pandas as pd\n",
    "import numpy as np\n",
    "import matplotlib.pyplot as plt\n",
    "import seaborn as sns"
   ]
  },
  {
   "cell_type": "markdown",
   "id": "bb5c72c3",
   "metadata": {},
   "source": [
    "\n",
    "## CA"
   ]
  },
  {
   "cell_type": "code",
   "execution_count": 2,
   "id": "fd94236e",
   "metadata": {},
   "outputs": [
    {
     "data": {
      "text/html": [
       "<div>\n",
       "<style scoped>\n",
       "    .dataframe tbody tr th:only-of-type {\n",
       "        vertical-align: middle;\n",
       "    }\n",
       "\n",
       "    .dataframe tbody tr th {\n",
       "        vertical-align: top;\n",
       "    }\n",
       "\n",
       "    .dataframe thead th {\n",
       "        text-align: right;\n",
       "    }\n",
       "</style>\n",
       "<table border=\"1\" class=\"dataframe\">\n",
       "  <thead>\n",
       "    <tr style=\"text-align: right;\">\n",
       "      <th></th>\n",
       "      <th>No</th>\n",
       "      <th>Customer</th>\n",
       "      <th>Age</th>\n",
       "      <th>City</th>\n",
       "      <th>Product</th>\n",
       "      <th>Limit</th>\n",
       "      <th>Company</th>\n",
       "      <th>Segment</th>\n",
       "    </tr>\n",
       "  </thead>\n",
       "  <tbody>\n",
       "    <tr>\n",
       "      <th>0</th>\n",
       "      <td>1</td>\n",
       "      <td>A1</td>\n",
       "      <td>76</td>\n",
       "      <td>BANGALORE</td>\n",
       "      <td>Gold</td>\n",
       "      <td>500000.0</td>\n",
       "      <td>C1</td>\n",
       "      <td>Self Employed</td>\n",
       "    </tr>\n",
       "    <tr>\n",
       "      <th>1</th>\n",
       "      <td>2</td>\n",
       "      <td>A2</td>\n",
       "      <td>71</td>\n",
       "      <td>CALCUTTA</td>\n",
       "      <td>Silver</td>\n",
       "      <td>100000.0</td>\n",
       "      <td>C2</td>\n",
       "      <td>Salaried_MNC</td>\n",
       "    </tr>\n",
       "    <tr>\n",
       "      <th>2</th>\n",
       "      <td>3</td>\n",
       "      <td>A3</td>\n",
       "      <td>34</td>\n",
       "      <td>COCHIN</td>\n",
       "      <td>Platimum</td>\n",
       "      <td>10000.0</td>\n",
       "      <td>C3</td>\n",
       "      <td>Salaried_Pvt</td>\n",
       "    </tr>\n",
       "    <tr>\n",
       "      <th>3</th>\n",
       "      <td>4</td>\n",
       "      <td>A4</td>\n",
       "      <td>47</td>\n",
       "      <td>BOMBAY</td>\n",
       "      <td>Platimum</td>\n",
       "      <td>10001.0</td>\n",
       "      <td>C4</td>\n",
       "      <td>Govt</td>\n",
       "    </tr>\n",
       "  </tbody>\n",
       "</table>\n",
       "</div>"
      ],
      "text/plain": [
       "   No Customer  Age       City   Product     Limit Company        Segment\n",
       "0   1       A1   76  BANGALORE      Gold  500000.0      C1  Self Employed\n",
       "1   2       A2   71   CALCUTTA    Silver  100000.0      C2   Salaried_MNC\n",
       "2   3       A3   34     COCHIN  Platimum   10000.0      C3   Salaried_Pvt\n",
       "3   4       A4   47     BOMBAY  Platimum   10001.0      C4           Govt"
      ]
     },
     "execution_count": 2,
     "metadata": {},
     "output_type": "execute_result"
    }
   ],
   "source": [
    "ca = pd.read_csv(r\"C:\\Users\\ifixthat\\Downloads\\Compressed\\PYTHON\\Python credit card case study\\Case Study 2 - Credit Card Case Study\\Customer Acqusition.csv\")\n",
    "ca.head(4)"
   ]
  },
  {
   "cell_type": "markdown",
   "id": "cf8a6849",
   "metadata": {},
   "source": [
    "## SP"
   ]
  },
  {
   "cell_type": "code",
   "execution_count": 3,
   "id": "7cfcb955",
   "metadata": {},
   "outputs": [
    {
     "data": {
      "text/html": [
       "<div>\n",
       "<style scoped>\n",
       "    .dataframe tbody tr th:only-of-type {\n",
       "        vertical-align: middle;\n",
       "    }\n",
       "\n",
       "    .dataframe tbody tr th {\n",
       "        vertical-align: top;\n",
       "    }\n",
       "\n",
       "    .dataframe thead th {\n",
       "        text-align: right;\n",
       "    }\n",
       "</style>\n",
       "<table border=\"1\" class=\"dataframe\">\n",
       "  <thead>\n",
       "    <tr style=\"text-align: right;\">\n",
       "      <th></th>\n",
       "      <th>Sl No:</th>\n",
       "      <th>Customer</th>\n",
       "      <th>Month</th>\n",
       "      <th>Type</th>\n",
       "      <th>Amount</th>\n",
       "    </tr>\n",
       "  </thead>\n",
       "  <tbody>\n",
       "    <tr>\n",
       "      <th>0</th>\n",
       "      <td>1</td>\n",
       "      <td>A1</td>\n",
       "      <td>12-Jan-04</td>\n",
       "      <td>JEWELLERY</td>\n",
       "      <td>485470.80</td>\n",
       "    </tr>\n",
       "    <tr>\n",
       "      <th>1</th>\n",
       "      <td>2</td>\n",
       "      <td>A1</td>\n",
       "      <td>3-Jan-04</td>\n",
       "      <td>PETRO</td>\n",
       "      <td>410556.13</td>\n",
       "    </tr>\n",
       "    <tr>\n",
       "      <th>2</th>\n",
       "      <td>3</td>\n",
       "      <td>A1</td>\n",
       "      <td>15-Jan-04</td>\n",
       "      <td>CLOTHES</td>\n",
       "      <td>23740.46</td>\n",
       "    </tr>\n",
       "    <tr>\n",
       "      <th>3</th>\n",
       "      <td>4</td>\n",
       "      <td>A1</td>\n",
       "      <td>25-Jan-04</td>\n",
       "      <td>FOOD</td>\n",
       "      <td>484342.47</td>\n",
       "    </tr>\n",
       "    <tr>\n",
       "      <th>4</th>\n",
       "      <td>5</td>\n",
       "      <td>A1</td>\n",
       "      <td>17-Jan-05</td>\n",
       "      <td>CAMERA</td>\n",
       "      <td>369694.07</td>\n",
       "    </tr>\n",
       "  </tbody>\n",
       "</table>\n",
       "</div>"
      ],
      "text/plain": [
       "   Sl No: Customer      Month       Type     Amount\n",
       "0       1       A1  12-Jan-04  JEWELLERY  485470.80\n",
       "1       2       A1   3-Jan-04      PETRO  410556.13\n",
       "2       3       A1  15-Jan-04    CLOTHES   23740.46\n",
       "3       4       A1  25-Jan-04       FOOD  484342.47\n",
       "4       5       A1  17-Jan-05     CAMERA  369694.07"
      ]
     },
     "execution_count": 3,
     "metadata": {},
     "output_type": "execute_result"
    }
   ],
   "source": [
    "sp = pd.read_csv(r\"C:\\Users\\ifixthat\\Downloads\\Compressed\\PYTHON\\Python credit card case study\\Case Study 2 - Credit Card Case Study\\spend.csv\")\n",
    "sp.head(5)"
   ]
  },
  {
   "cell_type": "markdown",
   "id": "40a6a8a4",
   "metadata": {},
   "source": [
    "## RP"
   ]
  },
  {
   "cell_type": "code",
   "execution_count": 4,
   "id": "1ab1578a",
   "metadata": {},
   "outputs": [
    {
     "data": {
      "text/html": [
       "<div>\n",
       "<style scoped>\n",
       "    .dataframe tbody tr th:only-of-type {\n",
       "        vertical-align: middle;\n",
       "    }\n",
       "\n",
       "    .dataframe tbody tr th {\n",
       "        vertical-align: top;\n",
       "    }\n",
       "\n",
       "    .dataframe thead th {\n",
       "        text-align: right;\n",
       "    }\n",
       "</style>\n",
       "<table border=\"1\" class=\"dataframe\">\n",
       "  <thead>\n",
       "    <tr style=\"text-align: right;\">\n",
       "      <th></th>\n",
       "      <th>SL No:</th>\n",
       "      <th>Customer</th>\n",
       "      <th>Month</th>\n",
       "      <th>Amount</th>\n",
       "      <th>Unnamed: 4</th>\n",
       "    </tr>\n",
       "  </thead>\n",
       "  <tbody>\n",
       "    <tr>\n",
       "      <th>0</th>\n",
       "      <td>NaN</td>\n",
       "      <td>A1</td>\n",
       "      <td>12-Jan-04</td>\n",
       "      <td>495414.75</td>\n",
       "      <td>NaN</td>\n",
       "    </tr>\n",
       "    <tr>\n",
       "      <th>1</th>\n",
       "      <td>2.0</td>\n",
       "      <td>A1</td>\n",
       "      <td>3-Jan-04</td>\n",
       "      <td>245899.02</td>\n",
       "      <td>NaN</td>\n",
       "    </tr>\n",
       "    <tr>\n",
       "      <th>2</th>\n",
       "      <td>3.0</td>\n",
       "      <td>A1</td>\n",
       "      <td>15-Jan-04</td>\n",
       "      <td>259490.06</td>\n",
       "      <td>NaN</td>\n",
       "    </tr>\n",
       "    <tr>\n",
       "      <th>3</th>\n",
       "      <td>4.0</td>\n",
       "      <td>A1</td>\n",
       "      <td>25-Jan-04</td>\n",
       "      <td>437555.12</td>\n",
       "      <td>NaN</td>\n",
       "    </tr>\n",
       "    <tr>\n",
       "      <th>4</th>\n",
       "      <td>5.0</td>\n",
       "      <td>A1</td>\n",
       "      <td>17-Jan-05</td>\n",
       "      <td>165972.88</td>\n",
       "      <td>NaN</td>\n",
       "    </tr>\n",
       "  </tbody>\n",
       "</table>\n",
       "</div>"
      ],
      "text/plain": [
       "   SL No: Customer      Month     Amount  Unnamed: 4\n",
       "0     NaN       A1  12-Jan-04  495414.75         NaN\n",
       "1     2.0       A1   3-Jan-04  245899.02         NaN\n",
       "2     3.0       A1  15-Jan-04  259490.06         NaN\n",
       "3     4.0       A1  25-Jan-04  437555.12         NaN\n",
       "4     5.0       A1  17-Jan-05  165972.88         NaN"
      ]
     },
     "execution_count": 4,
     "metadata": {},
     "output_type": "execute_result"
    }
   ],
   "source": [
    "rp = pd.read_csv(r\"C:\\Users\\ifixthat\\Downloads\\Compressed\\PYTHON\\Python credit card case study\\Case Study 2 - Credit Card Case Study\\Repayment.csv\")\n",
    "rp.head(5)"
   ]
  },
  {
   "cell_type": "code",
   "execution_count": 5,
   "id": "40e39491",
   "metadata": {},
   "outputs": [
    {
     "data": {
      "text/plain": [
       "46.49"
      ]
     },
     "execution_count": 5,
     "metadata": {},
     "output_type": "execute_result"
    }
   ],
   "source": [
    "aa = np.mean(ca.Age)\n",
    "aa"
   ]
  },
  {
   "cell_type": "markdown",
   "id": "fbe1b404",
   "metadata": {},
   "source": [
    "### ***1. In the above dataset,****\n",
    "\n",
    "####    ****a. In case age is less than 18, replace it with mean of age values.****"
   ]
  },
  {
   "cell_type": "code",
   "execution_count": 6,
   "id": "34174aa1",
   "metadata": {},
   "outputs": [],
   "source": [
    "ca['Age']  =  np.where(ca.Age < 18 , aa , ca.Age).astype(np.int64)\n"
   ]
  },
  {
   "cell_type": "markdown",
   "id": "15aaa58d",
   "metadata": {},
   "source": [
    "### ***b. In case spend amount is more than the limit, replace it with 50% of that customer’s limit.****\n",
    "#### ***(customer’s limit provided in acquisition table is the per transaction limit on his card)****"
   ]
  },
  {
   "cell_type": "code",
   "execution_count": 7,
   "id": "28eac025",
   "metadata": {},
   "outputs": [
    {
     "data": {
      "text/html": [
       "<div>\n",
       "<style scoped>\n",
       "    .dataframe tbody tr th:only-of-type {\n",
       "        vertical-align: middle;\n",
       "    }\n",
       "\n",
       "    .dataframe tbody tr th {\n",
       "        vertical-align: top;\n",
       "    }\n",
       "\n",
       "    .dataframe thead th {\n",
       "        text-align: right;\n",
       "    }\n",
       "</style>\n",
       "<table border=\"1\" class=\"dataframe\">\n",
       "  <thead>\n",
       "    <tr style=\"text-align: right;\">\n",
       "      <th></th>\n",
       "      <th>Customer</th>\n",
       "      <th>Age</th>\n",
       "      <th>City</th>\n",
       "      <th>Product</th>\n",
       "      <th>Limit</th>\n",
       "      <th>Company</th>\n",
       "      <th>Segment</th>\n",
       "      <th>Month</th>\n",
       "      <th>Type</th>\n",
       "      <th>Amount</th>\n",
       "    </tr>\n",
       "  </thead>\n",
       "  <tbody>\n",
       "    <tr>\n",
       "      <th>0</th>\n",
       "      <td>A1</td>\n",
       "      <td>76</td>\n",
       "      <td>BANGALORE</td>\n",
       "      <td>Gold</td>\n",
       "      <td>500000.0</td>\n",
       "      <td>C1</td>\n",
       "      <td>Self Employed</td>\n",
       "      <td>12-Jan-04</td>\n",
       "      <td>JEWELLERY</td>\n",
       "      <td>485470.80</td>\n",
       "    </tr>\n",
       "    <tr>\n",
       "      <th>1</th>\n",
       "      <td>A1</td>\n",
       "      <td>76</td>\n",
       "      <td>BANGALORE</td>\n",
       "      <td>Gold</td>\n",
       "      <td>500000.0</td>\n",
       "      <td>C1</td>\n",
       "      <td>Self Employed</td>\n",
       "      <td>3-Jan-04</td>\n",
       "      <td>PETRO</td>\n",
       "      <td>410556.13</td>\n",
       "    </tr>\n",
       "    <tr>\n",
       "      <th>2</th>\n",
       "      <td>A1</td>\n",
       "      <td>76</td>\n",
       "      <td>BANGALORE</td>\n",
       "      <td>Gold</td>\n",
       "      <td>500000.0</td>\n",
       "      <td>C1</td>\n",
       "      <td>Self Employed</td>\n",
       "      <td>15-Jan-04</td>\n",
       "      <td>CLOTHES</td>\n",
       "      <td>23740.46</td>\n",
       "    </tr>\n",
       "    <tr>\n",
       "      <th>3</th>\n",
       "      <td>A1</td>\n",
       "      <td>76</td>\n",
       "      <td>BANGALORE</td>\n",
       "      <td>Gold</td>\n",
       "      <td>500000.0</td>\n",
       "      <td>C1</td>\n",
       "      <td>Self Employed</td>\n",
       "      <td>25-Jan-04</td>\n",
       "      <td>FOOD</td>\n",
       "      <td>484342.47</td>\n",
       "    </tr>\n",
       "    <tr>\n",
       "      <th>4</th>\n",
       "      <td>A1</td>\n",
       "      <td>76</td>\n",
       "      <td>BANGALORE</td>\n",
       "      <td>Gold</td>\n",
       "      <td>500000.0</td>\n",
       "      <td>C1</td>\n",
       "      <td>Self Employed</td>\n",
       "      <td>17-Jan-05</td>\n",
       "      <td>CAMERA</td>\n",
       "      <td>369694.07</td>\n",
       "    </tr>\n",
       "    <tr>\n",
       "      <th>...</th>\n",
       "      <td>...</td>\n",
       "      <td>...</td>\n",
       "      <td>...</td>\n",
       "      <td>...</td>\n",
       "      <td>...</td>\n",
       "      <td>...</td>\n",
       "      <td>...</td>\n",
       "      <td>...</td>\n",
       "      <td>...</td>\n",
       "      <td>...</td>\n",
       "    </tr>\n",
       "    <tr>\n",
       "      <th>1495</th>\n",
       "      <td>A96</td>\n",
       "      <td>54</td>\n",
       "      <td>CHENNAI</td>\n",
       "      <td>Silver</td>\n",
       "      <td>100000.0</td>\n",
       "      <td>C19</td>\n",
       "      <td>Salaried_Pvt</td>\n",
       "      <td>25-Jan-04</td>\n",
       "      <td>BIKE</td>\n",
       "      <td>54729.66</td>\n",
       "    </tr>\n",
       "    <tr>\n",
       "      <th>1496</th>\n",
       "      <td>A97</td>\n",
       "      <td>58</td>\n",
       "      <td>TRIVANDRUM</td>\n",
       "      <td>Platimum</td>\n",
       "      <td>10000.0</td>\n",
       "      <td>C20</td>\n",
       "      <td>Govt</td>\n",
       "      <td>12-Jan-04</td>\n",
       "      <td>AUTO</td>\n",
       "      <td>139018.26</td>\n",
       "    </tr>\n",
       "    <tr>\n",
       "      <th>1497</th>\n",
       "      <td>A98</td>\n",
       "      <td>51</td>\n",
       "      <td>CALCUTTA</td>\n",
       "      <td>Platimum</td>\n",
       "      <td>10001.0</td>\n",
       "      <td>C21</td>\n",
       "      <td>Normal Salary</td>\n",
       "      <td>3-Jan-04</td>\n",
       "      <td>SHOPPING</td>\n",
       "      <td>284521.06</td>\n",
       "    </tr>\n",
       "    <tr>\n",
       "      <th>1498</th>\n",
       "      <td>A99</td>\n",
       "      <td>35</td>\n",
       "      <td>CALCUTTA</td>\n",
       "      <td>Platimum</td>\n",
       "      <td>10002.0</td>\n",
       "      <td>C22</td>\n",
       "      <td>Self Employed</td>\n",
       "      <td>15-Jan-04</td>\n",
       "      <td>AIR TICKET</td>\n",
       "      <td>90184.22</td>\n",
       "    </tr>\n",
       "    <tr>\n",
       "      <th>1499</th>\n",
       "      <td>A100</td>\n",
       "      <td>36</td>\n",
       "      <td>COCHIN</td>\n",
       "      <td>Silver</td>\n",
       "      <td>100000.0</td>\n",
       "      <td>C5</td>\n",
       "      <td>Salaried_MNC</td>\n",
       "      <td>25-Jan-04</td>\n",
       "      <td>BUS TICKET</td>\n",
       "      <td>224786.88</td>\n",
       "    </tr>\n",
       "  </tbody>\n",
       "</table>\n",
       "<p>1500 rows × 10 columns</p>\n",
       "</div>"
      ],
      "text/plain": [
       "     Customer  Age        City   Product     Limit Company        Segment  \\\n",
       "0          A1   76   BANGALORE      Gold  500000.0      C1  Self Employed   \n",
       "1          A1   76   BANGALORE      Gold  500000.0      C1  Self Employed   \n",
       "2          A1   76   BANGALORE      Gold  500000.0      C1  Self Employed   \n",
       "3          A1   76   BANGALORE      Gold  500000.0      C1  Self Employed   \n",
       "4          A1   76   BANGALORE      Gold  500000.0      C1  Self Employed   \n",
       "...       ...  ...         ...       ...       ...     ...            ...   \n",
       "1495      A96   54     CHENNAI    Silver  100000.0     C19   Salaried_Pvt   \n",
       "1496      A97   58  TRIVANDRUM  Platimum   10000.0     C20           Govt   \n",
       "1497      A98   51    CALCUTTA  Platimum   10001.0     C21  Normal Salary   \n",
       "1498      A99   35    CALCUTTA  Platimum   10002.0     C22  Self Employed   \n",
       "1499     A100   36      COCHIN    Silver  100000.0      C5   Salaried_MNC   \n",
       "\n",
       "          Month        Type     Amount  \n",
       "0     12-Jan-04   JEWELLERY  485470.80  \n",
       "1      3-Jan-04       PETRO  410556.13  \n",
       "2     15-Jan-04     CLOTHES   23740.46  \n",
       "3     25-Jan-04        FOOD  484342.47  \n",
       "4     17-Jan-05      CAMERA  369694.07  \n",
       "...         ...         ...        ...  \n",
       "1495  25-Jan-04        BIKE   54729.66  \n",
       "1496  12-Jan-04        AUTO  139018.26  \n",
       "1497   3-Jan-04    SHOPPING  284521.06  \n",
       "1498  15-Jan-04  AIR TICKET   90184.22  \n",
       "1499  25-Jan-04  BUS TICKET  224786.88  \n",
       "\n",
       "[1500 rows x 10 columns]"
      ]
     },
     "execution_count": 7,
     "metadata": {},
     "output_type": "execute_result"
    }
   ],
   "source": [
    "ca_sp = ca.merge(sp , how = 'inner' , on = 'Customer')\n",
    "ca_sp.drop(columns = ['No' , 'Sl No:'] , inplace = True)\n",
    "ca_sp"
   ]
  },
  {
   "cell_type": "code",
   "execution_count": 8,
   "id": "fc98e4ed",
   "metadata": {},
   "outputs": [],
   "source": [
    "ca_sp['Amount'] = np.where(ca_sp.Amount>ca_sp.Limit , 0.5 * ca_sp.Limit , ca_sp.Amount)"
   ]
  },
  {
   "cell_type": "markdown",
   "id": "72c57a2c",
   "metadata": {},
   "source": [
    " ### ***c. Incase the repayment amount is more than the limit, replace the repayment with the limit.***"
   ]
  },
  {
   "cell_type": "code",
   "execution_count": 9,
   "id": "832bab3e",
   "metadata": {},
   "outputs": [
    {
     "data": {
      "text/html": [
       "<div>\n",
       "<style scoped>\n",
       "    .dataframe tbody tr th:only-of-type {\n",
       "        vertical-align: middle;\n",
       "    }\n",
       "\n",
       "    .dataframe tbody tr th {\n",
       "        vertical-align: top;\n",
       "    }\n",
       "\n",
       "    .dataframe thead th {\n",
       "        text-align: right;\n",
       "    }\n",
       "</style>\n",
       "<table border=\"1\" class=\"dataframe\">\n",
       "  <thead>\n",
       "    <tr style=\"text-align: right;\">\n",
       "      <th></th>\n",
       "      <th>No</th>\n",
       "      <th>Customer</th>\n",
       "      <th>Age</th>\n",
       "      <th>City</th>\n",
       "      <th>Product</th>\n",
       "      <th>Limit</th>\n",
       "      <th>Company</th>\n",
       "      <th>Segment</th>\n",
       "      <th>SL No:</th>\n",
       "      <th>Month</th>\n",
       "      <th>Amount</th>\n",
       "      <th>Unnamed: 4</th>\n",
       "    </tr>\n",
       "  </thead>\n",
       "  <tbody>\n",
       "    <tr>\n",
       "      <th>0</th>\n",
       "      <td>1</td>\n",
       "      <td>A1</td>\n",
       "      <td>76</td>\n",
       "      <td>BANGALORE</td>\n",
       "      <td>Gold</td>\n",
       "      <td>500000.0</td>\n",
       "      <td>C1</td>\n",
       "      <td>Self Employed</td>\n",
       "      <td>NaN</td>\n",
       "      <td>12-Jan-04</td>\n",
       "      <td>495414.75</td>\n",
       "      <td>NaN</td>\n",
       "    </tr>\n",
       "    <tr>\n",
       "      <th>1</th>\n",
       "      <td>1</td>\n",
       "      <td>A1</td>\n",
       "      <td>76</td>\n",
       "      <td>BANGALORE</td>\n",
       "      <td>Gold</td>\n",
       "      <td>500000.0</td>\n",
       "      <td>C1</td>\n",
       "      <td>Self Employed</td>\n",
       "      <td>2.0</td>\n",
       "      <td>3-Jan-04</td>\n",
       "      <td>245899.02</td>\n",
       "      <td>NaN</td>\n",
       "    </tr>\n",
       "  </tbody>\n",
       "</table>\n",
       "</div>"
      ],
      "text/plain": [
       "   No Customer  Age       City Product     Limit Company        Segment  \\\n",
       "0   1       A1   76  BANGALORE    Gold  500000.0      C1  Self Employed   \n",
       "1   1       A1   76  BANGALORE    Gold  500000.0      C1  Self Employed   \n",
       "\n",
       "   SL No:      Month     Amount  Unnamed: 4  \n",
       "0     NaN  12-Jan-04  495414.75         NaN  \n",
       "1     2.0   3-Jan-04  245899.02         NaN  "
      ]
     },
     "execution_count": 9,
     "metadata": {},
     "output_type": "execute_result"
    }
   ],
   "source": [
    "ca_rp = ca.merge(rp , how = 'inner' , on = 'Customer')\n",
    "ca_rp.head(2)"
   ]
  },
  {
   "cell_type": "code",
   "execution_count": 10,
   "id": "6cda3e65",
   "metadata": {},
   "outputs": [],
   "source": [
    "ca_rp.loc[ca_rp.Amount > ca_rp.Limit , 'Amount'] = ca_rp.Limit\n"
   ]
  },
  {
   "cell_type": "markdown",
   "id": "5ca931f2",
   "metadata": {},
   "source": [
    "### ***2. From the above dataset create the following summaries:***\n",
    " ### ***a. How many distinct customers exist?****"
   ]
  },
  {
   "cell_type": "code",
   "execution_count": 11,
   "id": "d16c2ad1",
   "metadata": {},
   "outputs": [
    {
     "data": {
      "text/plain": [
       "No          100\n",
       "Customer    100\n",
       "Age          51\n",
       "City          8\n",
       "Product       3\n",
       "Limit         8\n",
       "Company      41\n",
       "Segment       5\n",
       "dtype: int64"
      ]
     },
     "execution_count": 11,
     "metadata": {},
     "output_type": "execute_result"
    }
   ],
   "source": [
    "distinct_cst = ca.nunique()\n",
    "distinct_cst"
   ]
  },
  {
   "cell_type": "code",
   "execution_count": 12,
   "id": "eb36f059",
   "metadata": {},
   "outputs": [
    {
     "name": "stdout",
     "output_type": "stream",
     "text": [
      "No. of distinct customers is  100\n"
     ]
    }
   ],
   "source": [
    "print('No. of distinct customers is ' ,  distinct_cst[0]) "
   ]
  },
  {
   "cell_type": "markdown",
   "id": "ff71174c",
   "metadata": {},
   "source": [
    "### ***b. How many distinct categories exist?***"
   ]
  },
  {
   "cell_type": "code",
   "execution_count": 13,
   "id": "22087887",
   "metadata": {},
   "outputs": [
    {
     "data": {
      "text/plain": [
       "Govt             29\n",
       "Self Employed    23\n",
       "Normal Salary    22\n",
       "Salaried_MNC     13\n",
       "Salaried_Pvt     13\n",
       "Name: Segment, dtype: int64"
      ]
     },
     "execution_count": 13,
     "metadata": {},
     "output_type": "execute_result"
    }
   ],
   "source": [
    "distinct_cat = ca.Segment.value_counts()\n",
    "distinct_cat"
   ]
  },
  {
   "cell_type": "code",
   "execution_count": 14,
   "id": "942e7c7a",
   "metadata": {},
   "outputs": [
    {
     "name": "stdout",
     "output_type": "stream",
     "text": [
      "No. of distinct categories is :  5 \n",
      "and their type is : \n",
      " Govt             29\n",
      "Self Employed    23\n",
      "Normal Salary    22\n",
      "Salaried_MNC     13\n",
      "Salaried_Pvt     13\n",
      "Name: Segment, dtype: int64\n"
     ]
    }
   ],
   "source": [
    "print(\"No. of distinct categories is : \" , distinct_cst['Segment'] ,\"\\nand their type is : \\n\" , distinct_cat)"
   ]
  },
  {
   "cell_type": "markdown",
   "id": "ea9c7668",
   "metadata": {},
   "source": [
    "### ***c. What is the average monthly spend by customers?***"
   ]
  },
  {
   "cell_type": "code",
   "execution_count": 15,
   "id": "8db72061",
   "metadata": {},
   "outputs": [
    {
     "data": {
      "text/plain": [
       "0       12-Jan-04\n",
       "1        3-Jan-04\n",
       "2       15-Jan-04\n",
       "3       25-Jan-04\n",
       "4       17-Jan-05\n",
       "          ...    \n",
       "1495     4-Feb-06\n",
       "1496    25-Mar-06\n",
       "1497    31-Mar-06\n",
       "1498    23-Mar-06\n",
       "1499    24-Mar-06\n",
       "Name: Month, Length: 1500, dtype: object"
      ]
     },
     "execution_count": 15,
     "metadata": {},
     "output_type": "execute_result"
    }
   ],
   "source": [
    "sp.Month"
   ]
  },
  {
   "cell_type": "code",
   "execution_count": 16,
   "id": "3a11220d",
   "metadata": {},
   "outputs": [],
   "source": [
    "sp['Month'] = sp.loc[: : , \"Month\"].apply(lambda x : pd.to_datetime(x ))"
   ]
  },
  {
   "cell_type": "code",
   "execution_count": 17,
   "id": "93e163c4",
   "metadata": {},
   "outputs": [],
   "source": [
    "sp[\"Month_name\"] = sp.Month.apply(lambda x : pd.Timestamp.strftime(x , format = '%B') )\n",
    "sp['Year_name']  = sp.Month.apply(lambda x : pd.Timestamp.strftime(x , format = '%Y'))"
   ]
  },
  {
   "cell_type": "code",
   "execution_count": 18,
   "id": "406b00d9",
   "metadata": {},
   "outputs": [
    {
     "data": {
      "text/html": [
       "<div>\n",
       "<style scoped>\n",
       "    .dataframe tbody tr th:only-of-type {\n",
       "        vertical-align: middle;\n",
       "    }\n",
       "\n",
       "    .dataframe tbody tr th {\n",
       "        vertical-align: top;\n",
       "    }\n",
       "\n",
       "    .dataframe thead th {\n",
       "        text-align: right;\n",
       "    }\n",
       "</style>\n",
       "<table border=\"1\" class=\"dataframe\">\n",
       "  <thead>\n",
       "    <tr style=\"text-align: right;\">\n",
       "      <th></th>\n",
       "      <th>Customer</th>\n",
       "      <th>Month_name</th>\n",
       "      <th>Year_name</th>\n",
       "      <th>Amount</th>\n",
       "    </tr>\n",
       "  </thead>\n",
       "  <tbody>\n",
       "    <tr>\n",
       "      <th>0</th>\n",
       "      <td>A1</td>\n",
       "      <td>April</td>\n",
       "      <td>2006</td>\n",
       "      <td>261649.250000</td>\n",
       "    </tr>\n",
       "    <tr>\n",
       "      <th>1</th>\n",
       "      <td>A1</td>\n",
       "      <td>August</td>\n",
       "      <td>2005</td>\n",
       "      <td>344372.100000</td>\n",
       "    </tr>\n",
       "    <tr>\n",
       "      <th>2</th>\n",
       "      <td>A1</td>\n",
       "      <td>February</td>\n",
       "      <td>2004</td>\n",
       "      <td>52208.650000</td>\n",
       "    </tr>\n",
       "    <tr>\n",
       "      <th>3</th>\n",
       "      <td>A1</td>\n",
       "      <td>February</td>\n",
       "      <td>2005</td>\n",
       "      <td>205992.450000</td>\n",
       "    </tr>\n",
       "    <tr>\n",
       "      <th>4</th>\n",
       "      <td>A1</td>\n",
       "      <td>January</td>\n",
       "      <td>2004</td>\n",
       "      <td>373274.006667</td>\n",
       "    </tr>\n",
       "    <tr>\n",
       "      <th>...</th>\n",
       "      <td>...</td>\n",
       "      <td>...</td>\n",
       "      <td>...</td>\n",
       "      <td>...</td>\n",
       "    </tr>\n",
       "    <tr>\n",
       "      <th>802</th>\n",
       "      <td>A95</td>\n",
       "      <td>January</td>\n",
       "      <td>2004</td>\n",
       "      <td>240401.500000</td>\n",
       "    </tr>\n",
       "    <tr>\n",
       "      <th>803</th>\n",
       "      <td>A96</td>\n",
       "      <td>January</td>\n",
       "      <td>2004</td>\n",
       "      <td>54729.660000</td>\n",
       "    </tr>\n",
       "    <tr>\n",
       "      <th>804</th>\n",
       "      <td>A97</td>\n",
       "      <td>January</td>\n",
       "      <td>2004</td>\n",
       "      <td>139018.260000</td>\n",
       "    </tr>\n",
       "    <tr>\n",
       "      <th>805</th>\n",
       "      <td>A98</td>\n",
       "      <td>January</td>\n",
       "      <td>2004</td>\n",
       "      <td>284521.060000</td>\n",
       "    </tr>\n",
       "    <tr>\n",
       "      <th>806</th>\n",
       "      <td>A99</td>\n",
       "      <td>January</td>\n",
       "      <td>2004</td>\n",
       "      <td>90184.220000</td>\n",
       "    </tr>\n",
       "  </tbody>\n",
       "</table>\n",
       "<p>807 rows × 4 columns</p>\n",
       "</div>"
      ],
      "text/plain": [
       "    Customer Month_name Year_name         Amount\n",
       "0         A1      April      2006  261649.250000\n",
       "1         A1     August      2005  344372.100000\n",
       "2         A1   February      2004   52208.650000\n",
       "3         A1   February      2005  205992.450000\n",
       "4         A1    January      2004  373274.006667\n",
       "..       ...        ...       ...            ...\n",
       "802      A95    January      2004  240401.500000\n",
       "803      A96    January      2004   54729.660000\n",
       "804      A97    January      2004  139018.260000\n",
       "805      A98    January      2004  284521.060000\n",
       "806      A99    January      2004   90184.220000\n",
       "\n",
       "[807 rows x 4 columns]"
      ]
     },
     "execution_count": 18,
     "metadata": {},
     "output_type": "execute_result"
    }
   ],
   "source": [
    "sp.groupby(['Customer','Month_name','Year_name'])['Amount'].mean().reset_index()"
   ]
  },
  {
   "cell_type": "markdown",
   "id": "92a0f60b",
   "metadata": {},
   "source": [
    " ### d. What is the average monthly repayment by customers?"
   ]
  },
  {
   "cell_type": "markdown",
   "id": "84b56f84",
   "metadata": {},
   "source": [
    "##### Dropping null values in repay dataset"
   ]
  },
  {
   "cell_type": "code",
   "execution_count": 19,
   "id": "602d6efd",
   "metadata": {},
   "outputs": [
    {
     "data": {
      "text/plain": [
       "SL No:          24\n",
       "Customer        23\n",
       "Month           23\n",
       "Amount          23\n",
       "Unnamed: 4    1523\n",
       "dtype: int64"
      ]
     },
     "execution_count": 19,
     "metadata": {},
     "output_type": "execute_result"
    }
   ],
   "source": [
    "rp.isnull().sum()"
   ]
  },
  {
   "cell_type": "code",
   "execution_count": 20,
   "id": "267750cb",
   "metadata": {},
   "outputs": [],
   "source": [
    "rp.drop(columns = \"Unnamed: 4\" , inplace = True)"
   ]
  },
  {
   "cell_type": "code",
   "execution_count": 21,
   "id": "b7b75bb1",
   "metadata": {},
   "outputs": [],
   "source": [
    "rp.dropna(inplace = True)"
   ]
  },
  {
   "cell_type": "code",
   "execution_count": 22,
   "id": "0e168ed6",
   "metadata": {},
   "outputs": [],
   "source": [
    "rp['Month'] = pd.to_datetime(rp.loc[ : : , \"Month\"]) "
   ]
  },
  {
   "cell_type": "code",
   "execution_count": 23,
   "id": "63e90f2a",
   "metadata": {},
   "outputs": [],
   "source": [
    "rp[\"Month_name\"] = rp.Month.apply(lambda x : pd.Timestamp.strftime(x , format = '%B'))\n",
    "rp['Year_name'] = rp.Month.apply(lambda x : pd.Timestamp.strftime(x , format = '%Y'))"
   ]
  },
  {
   "cell_type": "code",
   "execution_count": 24,
   "id": "56232938",
   "metadata": {},
   "outputs": [
    {
     "data": {
      "text/html": [
       "<div>\n",
       "<style scoped>\n",
       "    .dataframe tbody tr th:only-of-type {\n",
       "        vertical-align: middle;\n",
       "    }\n",
       "\n",
       "    .dataframe tbody tr th {\n",
       "        vertical-align: top;\n",
       "    }\n",
       "\n",
       "    .dataframe thead th {\n",
       "        text-align: right;\n",
       "    }\n",
       "</style>\n",
       "<table border=\"1\" class=\"dataframe\">\n",
       "  <thead>\n",
       "    <tr style=\"text-align: right;\">\n",
       "      <th></th>\n",
       "      <th>Customer</th>\n",
       "      <th>Month_name</th>\n",
       "      <th>Year_name</th>\n",
       "      <th>Amount</th>\n",
       "    </tr>\n",
       "  </thead>\n",
       "  <tbody>\n",
       "    <tr>\n",
       "      <th>0</th>\n",
       "      <td>A1</td>\n",
       "      <td>April</td>\n",
       "      <td>2006</td>\n",
       "      <td>254474.5800</td>\n",
       "    </tr>\n",
       "    <tr>\n",
       "      <th>1</th>\n",
       "      <td>A1</td>\n",
       "      <td>February</td>\n",
       "      <td>2004</td>\n",
       "      <td>117964.4300</td>\n",
       "    </tr>\n",
       "    <tr>\n",
       "      <th>2</th>\n",
       "      <td>A1</td>\n",
       "      <td>February</td>\n",
       "      <td>2005</td>\n",
       "      <td>165977.3425</td>\n",
       "    </tr>\n",
       "    <tr>\n",
       "      <th>3</th>\n",
       "      <td>A1</td>\n",
       "      <td>January</td>\n",
       "      <td>2004</td>\n",
       "      <td>349283.7320</td>\n",
       "    </tr>\n",
       "    <tr>\n",
       "      <th>4</th>\n",
       "      <td>A1</td>\n",
       "      <td>January</td>\n",
       "      <td>2005</td>\n",
       "      <td>165972.8800</td>\n",
       "    </tr>\n",
       "    <tr>\n",
       "      <th>...</th>\n",
       "      <td>...</td>\n",
       "      <td>...</td>\n",
       "      <td>...</td>\n",
       "      <td>...</td>\n",
       "    </tr>\n",
       "    <tr>\n",
       "      <th>793</th>\n",
       "      <td>A95</td>\n",
       "      <td>January</td>\n",
       "      <td>2004</td>\n",
       "      <td>369405.9600</td>\n",
       "    </tr>\n",
       "    <tr>\n",
       "      <th>794</th>\n",
       "      <td>A96</td>\n",
       "      <td>January</td>\n",
       "      <td>2004</td>\n",
       "      <td>310992.3000</td>\n",
       "    </tr>\n",
       "    <tr>\n",
       "      <th>795</th>\n",
       "      <td>A97</td>\n",
       "      <td>January</td>\n",
       "      <td>2004</td>\n",
       "      <td>121874.9000</td>\n",
       "    </tr>\n",
       "    <tr>\n",
       "      <th>796</th>\n",
       "      <td>A98</td>\n",
       "      <td>January</td>\n",
       "      <td>2004</td>\n",
       "      <td>337815.5700</td>\n",
       "    </tr>\n",
       "    <tr>\n",
       "      <th>797</th>\n",
       "      <td>A99</td>\n",
       "      <td>January</td>\n",
       "      <td>2004</td>\n",
       "      <td>25682.7300</td>\n",
       "    </tr>\n",
       "  </tbody>\n",
       "</table>\n",
       "<p>798 rows × 4 columns</p>\n",
       "</div>"
      ],
      "text/plain": [
       "    Customer Month_name Year_name       Amount\n",
       "0         A1      April      2006  254474.5800\n",
       "1         A1   February      2004  117964.4300\n",
       "2         A1   February      2005  165977.3425\n",
       "3         A1    January      2004  349283.7320\n",
       "4         A1    January      2005  165972.8800\n",
       "..       ...        ...       ...          ...\n",
       "793      A95    January      2004  369405.9600\n",
       "794      A96    January      2004  310992.3000\n",
       "795      A97    January      2004  121874.9000\n",
       "796      A98    January      2004  337815.5700\n",
       "797      A99    January      2004   25682.7300\n",
       "\n",
       "[798 rows x 4 columns]"
      ]
     },
     "execution_count": 24,
     "metadata": {},
     "output_type": "execute_result"
    }
   ],
   "source": [
    "rp.groupby(['Customer','Month_name','Year_name'])['Amount'].mean().reset_index()"
   ]
  },
  {
   "cell_type": "markdown",
   "id": "ed1238c7",
   "metadata": {},
   "source": [
    "### ***e. If the monthly rate of interest is 2.9%, what is the profit for the bank for each month? (Profit is defined as interest earned on Monthly Profit. Monthly Profit = Monthly repayment                                                                             – Monthly spend. Interest is earned only on positive profits and not on negative amounts)***"
   ]
  },
  {
   "cell_type": "code",
   "execution_count": 25,
   "id": "c1fc68f1",
   "metadata": {},
   "outputs": [
    {
     "data": {
      "text/html": [
       "<div>\n",
       "<style scoped>\n",
       "    .dataframe tbody tr th:only-of-type {\n",
       "        vertical-align: middle;\n",
       "    }\n",
       "\n",
       "    .dataframe tbody tr th {\n",
       "        vertical-align: top;\n",
       "    }\n",
       "\n",
       "    .dataframe thead th {\n",
       "        text-align: right;\n",
       "    }\n",
       "</style>\n",
       "<table border=\"1\" class=\"dataframe\">\n",
       "  <thead>\n",
       "    <tr style=\"text-align: right;\">\n",
       "      <th></th>\n",
       "      <th>Customer</th>\n",
       "      <th>Age</th>\n",
       "      <th>City</th>\n",
       "      <th>Product</th>\n",
       "      <th>Limit</th>\n",
       "      <th>Company</th>\n",
       "      <th>Segment</th>\n",
       "      <th>Month_spend</th>\n",
       "      <th>Type</th>\n",
       "      <th>Amount_spend</th>\n",
       "      <th>SL No:</th>\n",
       "      <th>Month_repay</th>\n",
       "      <th>Amount_repay</th>\n",
       "      <th>Month_name</th>\n",
       "      <th>Year_name</th>\n",
       "    </tr>\n",
       "  </thead>\n",
       "  <tbody>\n",
       "    <tr>\n",
       "      <th>0</th>\n",
       "      <td>A1</td>\n",
       "      <td>76</td>\n",
       "      <td>BANGALORE</td>\n",
       "      <td>Gold</td>\n",
       "      <td>500000.0</td>\n",
       "      <td>C1</td>\n",
       "      <td>Self Employed</td>\n",
       "      <td>12-Jan-04</td>\n",
       "      <td>JEWELLERY</td>\n",
       "      <td>485470.8</td>\n",
       "      <td>2.0</td>\n",
       "      <td>2004-01-03</td>\n",
       "      <td>245899.02</td>\n",
       "      <td>January</td>\n",
       "      <td>2004</td>\n",
       "    </tr>\n",
       "    <tr>\n",
       "      <th>1</th>\n",
       "      <td>A1</td>\n",
       "      <td>76</td>\n",
       "      <td>BANGALORE</td>\n",
       "      <td>Gold</td>\n",
       "      <td>500000.0</td>\n",
       "      <td>C1</td>\n",
       "      <td>Self Employed</td>\n",
       "      <td>12-Jan-04</td>\n",
       "      <td>JEWELLERY</td>\n",
       "      <td>485470.8</td>\n",
       "      <td>3.0</td>\n",
       "      <td>2004-01-15</td>\n",
       "      <td>259490.06</td>\n",
       "      <td>January</td>\n",
       "      <td>2004</td>\n",
       "    </tr>\n",
       "  </tbody>\n",
       "</table>\n",
       "</div>"
      ],
      "text/plain": [
       "  Customer  Age       City Product     Limit Company        Segment  \\\n",
       "0       A1   76  BANGALORE    Gold  500000.0      C1  Self Employed   \n",
       "1       A1   76  BANGALORE    Gold  500000.0      C1  Self Employed   \n",
       "\n",
       "  Month_spend       Type  Amount_spend  SL No: Month_repay  Amount_repay  \\\n",
       "0   12-Jan-04  JEWELLERY      485470.8     2.0  2004-01-03     245899.02   \n",
       "1   12-Jan-04  JEWELLERY      485470.8     3.0  2004-01-15     259490.06   \n",
       "\n",
       "  Month_name Year_name  \n",
       "0    January      2004  \n",
       "1    January      2004  "
      ]
     },
     "execution_count": 25,
     "metadata": {},
     "output_type": "execute_result"
    }
   ],
   "source": [
    "ca_sp_rp = ca_sp.merge(rp , how = 'inner' , on = 'Customer' , suffixes = ('_spend', '_repay') )\n",
    "ca_sp_rp.head(2)"
   ]
  },
  {
   "cell_type": "code",
   "execution_count": 26,
   "id": "2c6aa746",
   "metadata": {},
   "outputs": [
    {
     "data": {
      "text/html": [
       "<div>\n",
       "<style scoped>\n",
       "    .dataframe tbody tr th:only-of-type {\n",
       "        vertical-align: middle;\n",
       "    }\n",
       "\n",
       "    .dataframe tbody tr th {\n",
       "        vertical-align: top;\n",
       "    }\n",
       "\n",
       "    .dataframe thead th {\n",
       "        text-align: right;\n",
       "    }\n",
       "</style>\n",
       "<table border=\"1\" class=\"dataframe\">\n",
       "  <thead>\n",
       "    <tr style=\"text-align: right;\">\n",
       "      <th></th>\n",
       "      <th></th>\n",
       "      <th>Amount_spend</th>\n",
       "      <th>Amount_repay</th>\n",
       "    </tr>\n",
       "    <tr>\n",
       "      <th>Month_name</th>\n",
       "      <th>Year_name</th>\n",
       "      <th></th>\n",
       "      <th></th>\n",
       "    </tr>\n",
       "  </thead>\n",
       "  <tbody>\n",
       "    <tr>\n",
       "      <th rowspan=\"2\" valign=\"top\">April</th>\n",
       "      <th>2004</th>\n",
       "      <td>1.194516e+08</td>\n",
       "      <td>2.285403e+08</td>\n",
       "    </tr>\n",
       "    <tr>\n",
       "      <th>2005</th>\n",
       "      <td>9.366405e+07</td>\n",
       "      <td>1.747894e+08</td>\n",
       "    </tr>\n",
       "  </tbody>\n",
       "</table>\n",
       "</div>"
      ],
      "text/plain": [
       "                      Amount_spend  Amount_repay\n",
       "Month_name Year_name                            \n",
       "April      2004       1.194516e+08  2.285403e+08\n",
       "           2005       9.366405e+07  1.747894e+08"
      ]
     },
     "execution_count": 26,
     "metadata": {},
     "output_type": "execute_result"
    }
   ],
   "source": [
    "casrp = ca_sp_rp.groupby(['Month_name','Year_name'])[['Amount_spend','Amount_repay']].sum()\n",
    "casrp.head(2)"
   ]
  },
  {
   "cell_type": "code",
   "execution_count": 27,
   "id": "64642c6f",
   "metadata": {},
   "outputs": [],
   "source": [
    "casrp['Monthly_Profit'] = casrp.Amount_repay - casrp.Amount_spend"
   ]
  },
  {
   "cell_type": "code",
   "execution_count": 28,
   "id": "3557ccd0",
   "metadata": {},
   "outputs": [],
   "source": [
    "casrp['Profit_earned'] = casrp.Monthly_Profit.apply(lambda x : x*.029)"
   ]
  },
  {
   "cell_type": "code",
   "execution_count": 29,
   "id": "7da8c8a0",
   "metadata": {},
   "outputs": [
    {
     "data": {
      "text/plain": [
       "Month_name\n",
       "April        1.382164e+07\n",
       "August       3.618588e+06\n",
       "December     2.348529e+06\n",
       "February     1.628370e+07\n",
       "January      2.013085e+07\n",
       "July         3.485187e+06\n",
       "June         3.482861e+06\n",
       "March        1.189415e+07\n",
       "May          1.888295e+07\n",
       "November     4.922471e+06\n",
       "October      1.592662e+06\n",
       "September    2.869336e+06\n",
       "Name: Profit_earned, dtype: float64"
      ]
     },
     "execution_count": 29,
     "metadata": {},
     "output_type": "execute_result"
    }
   ],
   "source": [
    "casrp.groupby('Month_name')['Profit_earned'].sum()"
   ]
  },
  {
   "cell_type": "markdown",
   "id": "bba90295",
   "metadata": {},
   "source": [
    "### ***f. What are the top 5 product types?***"
   ]
  },
  {
   "cell_type": "code",
   "execution_count": 30,
   "id": "0c60c8c3",
   "metadata": {},
   "outputs": [
    {
     "data": {
      "text/plain": [
       "Type\n",
       "PETRO           28597384.98\n",
       "CAMERA          27690738.44\n",
       "FOOD            20519243.60\n",
       "AIR TICKET      20155847.12\n",
       "TRAIN TICKET    19995825.72\n",
       "Name: Amount, dtype: float64"
      ]
     },
     "execution_count": 30,
     "metadata": {},
     "output_type": "execute_result"
    }
   ],
   "source": [
    "ca_sp.groupby('Type')['Amount'].sum().sort_values(ascending = False).head(5)"
   ]
  },
  {
   "cell_type": "markdown",
   "id": "b7d024f4",
   "metadata": {},
   "source": [
    "### g. Which city is having maximum spend?"
   ]
  },
  {
   "cell_type": "code",
   "execution_count": 31,
   "id": "b78707fe",
   "metadata": {},
   "outputs": [
    {
     "data": {
      "text/plain": [
       "City\n",
       "COCHIN    45963513.5\n",
       "Name: Amount, dtype: float64"
      ]
     },
     "execution_count": 31,
     "metadata": {},
     "output_type": "execute_result"
    }
   ],
   "source": [
    "ca_sp.groupby('City')['Amount'].sum().sort_values(ascending = False).head(1)"
   ]
  },
  {
   "cell_type": "markdown",
   "id": "f7b7e283",
   "metadata": {},
   "source": [
    "### ***h. Which age group is spending more money?***"
   ]
  },
  {
   "cell_type": "code",
   "execution_count": 32,
   "id": "a9c47d95",
   "metadata": {},
   "outputs": [],
   "source": [
    "ca_sp['age_group'] = pd.cut(ca_sp.Age ,bins=np.arange(18,88,8),labels=[\"18-26\",\"26-34\", \"34-42\" ,\"42-50\" ,\"50-58\",\"58-66\",\"66-74\",\"74-82\"],include_lowest=True)"
   ]
  },
  {
   "cell_type": "code",
   "execution_count": 33,
   "id": "2d762cd2",
   "metadata": {},
   "outputs": [
    {
     "data": {
      "text/plain": [
       "age_group\n",
       "42-50    53242390.70\n",
       "34-42    38037826.50\n",
       "26-34    30553459.81\n",
       "18-26    25233896.65\n",
       "50-58    22454066.68\n",
       "74-82    19770884.32\n",
       "66-74    17705877.44\n",
       "58-66    12782683.13\n",
       "Name: Amount, dtype: float64"
      ]
     },
     "execution_count": 33,
     "metadata": {},
     "output_type": "execute_result"
    }
   ],
   "source": [
    "ca_sp.groupby('age_group')['Amount'].sum().sort_values(ascending = False)"
   ]
  },
  {
   "cell_type": "markdown",
   "id": "b0e604a7",
   "metadata": {},
   "source": [
    "### ***i. Who are the top 10 customers in terms of repayment?***"
   ]
  },
  {
   "cell_type": "code",
   "execution_count": 34,
   "id": "96f7a3bd",
   "metadata": {},
   "outputs": [
    {
     "data": {
      "text/plain": [
       "Customer\n",
       "A61    10539142.91\n",
       "A60     9876290.74\n",
       "A13     9572000.66\n",
       "A43     8489871.46\n",
       "A45     8448334.87\n",
       "A12     8334760.16\n",
       "A14     7943268.63\n",
       "A44     7744730.12\n",
       "A39     7622483.30\n",
       "A42     7615460.86\n",
       "Name: Amount, dtype: float64"
      ]
     },
     "execution_count": 34,
     "metadata": {},
     "output_type": "execute_result"
    }
   ],
   "source": [
    "ca_rp.groupby('Customer')['Amount'].sum().sort_values(ascending  = False).head(10)"
   ]
  },
  {
   "cell_type": "markdown",
   "id": "3dfa970a",
   "metadata": {},
   "source": [
    "### ***3. Calculate the city wise spend on each product on yearly basis. Also include a graphical representation for the same.***"
   ]
  },
  {
   "cell_type": "code",
   "execution_count": 35,
   "id": "b2233697",
   "metadata": {},
   "outputs": [],
   "source": [
    "ca_sp.Month = pd.to_datetime(ca_sp.Month)"
   ]
  },
  {
   "cell_type": "code",
   "execution_count": 36,
   "id": "e5ac847d",
   "metadata": {},
   "outputs": [],
   "source": [
    "ca_sp['year'] = ca_sp.Month.apply(lambda x : pd.Timestamp.strftime(x , format = '%Y') )"
   ]
  },
  {
   "cell_type": "code",
   "execution_count": 37,
   "id": "4983de92",
   "metadata": {},
   "outputs": [
    {
     "data": {
      "text/html": [
       "<div>\n",
       "<style scoped>\n",
       "    .dataframe tbody tr th:only-of-type {\n",
       "        vertical-align: middle;\n",
       "    }\n",
       "\n",
       "    .dataframe tbody tr th {\n",
       "        vertical-align: top;\n",
       "    }\n",
       "\n",
       "    .dataframe thead th {\n",
       "        text-align: right;\n",
       "    }\n",
       "</style>\n",
       "<table border=\"1\" class=\"dataframe\">\n",
       "  <thead>\n",
       "    <tr style=\"text-align: right;\">\n",
       "      <th></th>\n",
       "      <th>City</th>\n",
       "      <th>Product</th>\n",
       "      <th>year</th>\n",
       "      <th>Amount</th>\n",
       "    </tr>\n",
       "  </thead>\n",
       "  <tbody>\n",
       "    <tr>\n",
       "      <th>0</th>\n",
       "      <td>BANGALORE</td>\n",
       "      <td>Gold</td>\n",
       "      <td>2004</td>\n",
       "      <td>9289878.54</td>\n",
       "    </tr>\n",
       "    <tr>\n",
       "      <th>1</th>\n",
       "      <td>BANGALORE</td>\n",
       "      <td>Gold</td>\n",
       "      <td>2005</td>\n",
       "      <td>12892362.99</td>\n",
       "    </tr>\n",
       "    <tr>\n",
       "      <th>2</th>\n",
       "      <td>BANGALORE</td>\n",
       "      <td>Gold</td>\n",
       "      <td>2006</td>\n",
       "      <td>12030611.09</td>\n",
       "    </tr>\n",
       "    <tr>\n",
       "      <th>3</th>\n",
       "      <td>BANGALORE</td>\n",
       "      <td>Platimum</td>\n",
       "      <td>2004</td>\n",
       "      <td>1112732.30</td>\n",
       "    </tr>\n",
       "    <tr>\n",
       "      <th>4</th>\n",
       "      <td>BANGALORE</td>\n",
       "      <td>Platimum</td>\n",
       "      <td>2005</td>\n",
       "      <td>912284.97</td>\n",
       "    </tr>\n",
       "    <tr>\n",
       "      <th>5</th>\n",
       "      <td>BANGALORE</td>\n",
       "      <td>Platimum</td>\n",
       "      <td>2006</td>\n",
       "      <td>685831.27</td>\n",
       "    </tr>\n",
       "    <tr>\n",
       "      <th>6</th>\n",
       "      <td>BANGALORE</td>\n",
       "      <td>Silver</td>\n",
       "      <td>2004</td>\n",
       "      <td>1291852.58</td>\n",
       "    </tr>\n",
       "    <tr>\n",
       "      <th>7</th>\n",
       "      <td>BANGALORE</td>\n",
       "      <td>Silver</td>\n",
       "      <td>2005</td>\n",
       "      <td>830612.34</td>\n",
       "    </tr>\n",
       "    <tr>\n",
       "      <th>8</th>\n",
       "      <td>BANGALORE</td>\n",
       "      <td>Silver</td>\n",
       "      <td>2006</td>\n",
       "      <td>1415480.94</td>\n",
       "    </tr>\n",
       "    <tr>\n",
       "      <th>9</th>\n",
       "      <td>BOMBAY</td>\n",
       "      <td>Gold</td>\n",
       "      <td>2004</td>\n",
       "      <td>6987853.53</td>\n",
       "    </tr>\n",
       "  </tbody>\n",
       "</table>\n",
       "</div>"
      ],
      "text/plain": [
       "        City   Product  year       Amount\n",
       "0  BANGALORE      Gold  2004   9289878.54\n",
       "1  BANGALORE      Gold  2005  12892362.99\n",
       "2  BANGALORE      Gold  2006  12030611.09\n",
       "3  BANGALORE  Platimum  2004   1112732.30\n",
       "4  BANGALORE  Platimum  2005    912284.97\n",
       "5  BANGALORE  Platimum  2006    685831.27\n",
       "6  BANGALORE    Silver  2004   1291852.58\n",
       "7  BANGALORE    Silver  2005    830612.34\n",
       "8  BANGALORE    Silver  2006   1415480.94\n",
       "9     BOMBAY      Gold  2004   6987853.53"
      ]
     },
     "execution_count": 37,
     "metadata": {},
     "output_type": "execute_result"
    }
   ],
   "source": [
    "new_data = ca_sp.groupby(['City','Product','year'])['Amount'].sum().reset_index()\n",
    "new_data.head(10)"
   ]
  },
  {
   "cell_type": "code",
   "execution_count": 38,
   "id": "36272f7a",
   "metadata": {},
   "outputs": [
    {
     "data": {
      "text/html": [
       "<div>\n",
       "<style scoped>\n",
       "    .dataframe tbody tr th:only-of-type {\n",
       "        vertical-align: middle;\n",
       "    }\n",
       "\n",
       "    .dataframe tbody tr th {\n",
       "        vertical-align: top;\n",
       "    }\n",
       "\n",
       "    .dataframe thead th {\n",
       "        text-align: right;\n",
       "    }\n",
       "</style>\n",
       "<table border=\"1\" class=\"dataframe\">\n",
       "  <thead>\n",
       "    <tr style=\"text-align: right;\">\n",
       "      <th></th>\n",
       "      <th>Product</th>\n",
       "      <th>Gold</th>\n",
       "      <th>Platimum</th>\n",
       "      <th>Silver</th>\n",
       "    </tr>\n",
       "    <tr>\n",
       "      <th>City</th>\n",
       "      <th>year</th>\n",
       "      <th></th>\n",
       "      <th></th>\n",
       "      <th></th>\n",
       "    </tr>\n",
       "  </thead>\n",
       "  <tbody>\n",
       "    <tr>\n",
       "      <th rowspan=\"3\" valign=\"top\">BANGALORE</th>\n",
       "      <th>2004</th>\n",
       "      <td>9289878.54</td>\n",
       "      <td>1112732.30</td>\n",
       "      <td>1291852.58</td>\n",
       "    </tr>\n",
       "    <tr>\n",
       "      <th>2005</th>\n",
       "      <td>12892362.99</td>\n",
       "      <td>912284.97</td>\n",
       "      <td>830612.34</td>\n",
       "    </tr>\n",
       "    <tr>\n",
       "      <th>2006</th>\n",
       "      <td>12030611.09</td>\n",
       "      <td>685831.27</td>\n",
       "      <td>1415480.94</td>\n",
       "    </tr>\n",
       "    <tr>\n",
       "      <th rowspan=\"3\" valign=\"top\">BOMBAY</th>\n",
       "      <th>2004</th>\n",
       "      <td>6987853.53</td>\n",
       "      <td>897264.94</td>\n",
       "      <td>532089.03</td>\n",
       "    </tr>\n",
       "    <tr>\n",
       "      <th>2005</th>\n",
       "      <td>8983018.28</td>\n",
       "      <td>711804.94</td>\n",
       "      <td>508988.54</td>\n",
       "    </tr>\n",
       "    <tr>\n",
       "      <th>2006</th>\n",
       "      <td>7917144.31</td>\n",
       "      <td>972130.01</td>\n",
       "      <td>1092833.80</td>\n",
       "    </tr>\n",
       "    <tr>\n",
       "      <th rowspan=\"3\" valign=\"top\">CALCUTTA</th>\n",
       "      <th>2004</th>\n",
       "      <td>7477140.98</td>\n",
       "      <td>2037690.30</td>\n",
       "      <td>500006.00</td>\n",
       "    </tr>\n",
       "    <tr>\n",
       "      <th>2005</th>\n",
       "      <td>10303355.80</td>\n",
       "      <td>4434696.31</td>\n",
       "      <td>440147.06</td>\n",
       "    </tr>\n",
       "    <tr>\n",
       "      <th>2006</th>\n",
       "      <td>11167532.77</td>\n",
       "      <td>3589606.66</td>\n",
       "      <td>1157956.42</td>\n",
       "    </tr>\n",
       "    <tr>\n",
       "      <th rowspan=\"3\" valign=\"top\">CHENNAI</th>\n",
       "      <th>2004</th>\n",
       "      <td>1059618.50</td>\n",
       "      <td>3535652.38</td>\n",
       "      <td>282056.86</td>\n",
       "    </tr>\n",
       "    <tr>\n",
       "      <th>2005</th>\n",
       "      <td>3740945.58</td>\n",
       "      <td>5053956.32</td>\n",
       "      <td>377184.49</td>\n",
       "    </tr>\n",
       "    <tr>\n",
       "      <th>2006</th>\n",
       "      <td>2704288.62</td>\n",
       "      <td>5024923.40</td>\n",
       "      <td>350009.50</td>\n",
       "    </tr>\n",
       "    <tr>\n",
       "      <th rowspan=\"3\" valign=\"top\">COCHIN</th>\n",
       "      <th>2004</th>\n",
       "      <td>7315850.15</td>\n",
       "      <td>3419904.07</td>\n",
       "      <td>814229.62</td>\n",
       "    </tr>\n",
       "    <tr>\n",
       "      <th>2005</th>\n",
       "      <td>12110613.03</td>\n",
       "      <td>4960921.71</td>\n",
       "      <td>652269.38</td>\n",
       "    </tr>\n",
       "    <tr>\n",
       "      <th>2006</th>\n",
       "      <td>10499142.38</td>\n",
       "      <td>4920592.29</td>\n",
       "      <td>1269990.87</td>\n",
       "    </tr>\n",
       "    <tr>\n",
       "      <th rowspan=\"3\" valign=\"top\">DELHI</th>\n",
       "      <th>2004</th>\n",
       "      <td>2806495.00</td>\n",
       "      <td>283512.89</td>\n",
       "      <td>768172.30</td>\n",
       "    </tr>\n",
       "    <tr>\n",
       "      <th>2005</th>\n",
       "      <td>1964845.27</td>\n",
       "      <td>494157.86</td>\n",
       "      <td>612311.21</td>\n",
       "    </tr>\n",
       "    <tr>\n",
       "      <th>2006</th>\n",
       "      <td>2957103.32</td>\n",
       "      <td>176788.72</td>\n",
       "      <td>854899.97</td>\n",
       "    </tr>\n",
       "    <tr>\n",
       "      <th rowspan=\"3\" valign=\"top\">PATNA</th>\n",
       "      <th>2004</th>\n",
       "      <td>2072567.90</td>\n",
       "      <td>1113069.60</td>\n",
       "      <td>756684.10</td>\n",
       "    </tr>\n",
       "    <tr>\n",
       "      <th>2005</th>\n",
       "      <td>3252615.77</td>\n",
       "      <td>2883231.07</td>\n",
       "      <td>950094.19</td>\n",
       "    </tr>\n",
       "    <tr>\n",
       "      <th>2006</th>\n",
       "      <td>2276181.69</td>\n",
       "      <td>1256137.65</td>\n",
       "      <td>700005.00</td>\n",
       "    </tr>\n",
       "    <tr>\n",
       "      <th rowspan=\"3\" valign=\"top\">TRIVANDRUM</th>\n",
       "      <th>2004</th>\n",
       "      <td>2415102.84</td>\n",
       "      <td>2161676.67</td>\n",
       "      <td>209667.48</td>\n",
       "    </tr>\n",
       "    <tr>\n",
       "      <th>2005</th>\n",
       "      <td>1240375.85</td>\n",
       "      <td>3601443.30</td>\n",
       "      <td>269912.99</td>\n",
       "    </tr>\n",
       "    <tr>\n",
       "      <th>2006</th>\n",
       "      <td>2735710.87</td>\n",
       "      <td>2147403.75</td>\n",
       "      <td>555862.12</td>\n",
       "    </tr>\n",
       "  </tbody>\n",
       "</table>\n",
       "</div>"
      ],
      "text/plain": [
       "Product                 Gold    Platimum      Silver\n",
       "City       year                                     \n",
       "BANGALORE  2004   9289878.54  1112732.30  1291852.58\n",
       "           2005  12892362.99   912284.97   830612.34\n",
       "           2006  12030611.09   685831.27  1415480.94\n",
       "BOMBAY     2004   6987853.53   897264.94   532089.03\n",
       "           2005   8983018.28   711804.94   508988.54\n",
       "           2006   7917144.31   972130.01  1092833.80\n",
       "CALCUTTA   2004   7477140.98  2037690.30   500006.00\n",
       "           2005  10303355.80  4434696.31   440147.06\n",
       "           2006  11167532.77  3589606.66  1157956.42\n",
       "CHENNAI    2004   1059618.50  3535652.38   282056.86\n",
       "           2005   3740945.58  5053956.32   377184.49\n",
       "           2006   2704288.62  5024923.40   350009.50\n",
       "COCHIN     2004   7315850.15  3419904.07   814229.62\n",
       "           2005  12110613.03  4960921.71   652269.38\n",
       "           2006  10499142.38  4920592.29  1269990.87\n",
       "DELHI      2004   2806495.00   283512.89   768172.30\n",
       "           2005   1964845.27   494157.86   612311.21\n",
       "           2006   2957103.32   176788.72   854899.97\n",
       "PATNA      2004   2072567.90  1113069.60   756684.10\n",
       "           2005   3252615.77  2883231.07   950094.19\n",
       "           2006   2276181.69  1256137.65   700005.00\n",
       "TRIVANDRUM 2004   2415102.84  2161676.67   209667.48\n",
       "           2005   1240375.85  3601443.30   269912.99\n",
       "           2006   2735710.87  2147403.75   555862.12"
      ]
     },
     "execution_count": 38,
     "metadata": {},
     "output_type": "execute_result"
    }
   ],
   "source": [
    "new_data.pivot(index = ['City','year'] , columns = 'Product' , values = 'Amount')"
   ]
  },
  {
   "cell_type": "markdown",
   "id": "49b619a8",
   "metadata": {},
   "source": [
    "### ***4. Create graphs for***     "
   ]
  },
  {
   "cell_type": "markdown",
   "id": "349c88cc",
   "metadata": {},
   "source": [
    "### ***a. Monthly comparison of total spends, city wise***"
   ]
  },
  {
   "cell_type": "code",
   "execution_count": 39,
   "id": "46259284",
   "metadata": {},
   "outputs": [],
   "source": [
    "ca_sp['monthly'] = ca_sp.Month.apply(lambda x : pd.Timestamp.strftime(x , format = '%B') )"
   ]
  },
  {
   "cell_type": "code",
   "execution_count": 40,
   "id": "2d4e0298",
   "metadata": {},
   "outputs": [],
   "source": [
    "mc = ca_sp.groupby(['City','monthly'])['Amount'].sum().reset_index()"
   ]
  },
  {
   "cell_type": "code",
   "execution_count": 41,
   "id": "acf8f3e4",
   "metadata": {},
   "outputs": [
    {
     "data": {
      "image/png": "[encoded data removed]",
      "text/plain": [
       "<Figure size 800x800 with 1 Axes>"
      ]
     },
     "metadata": {},
     "output_type": "display_data"
    }
   ],
   "source": [
    "mc.pivot(index = 'City', columns = 'monthly' , values = 'Amount').plot(kind=\"bar\",figsize=(8,8),width=0.8)\n",
    "plt.show()"
   ]
  },
  {
   "cell_type": "markdown",
   "id": "7fa79d28",
   "metadata": {},
   "source": [
    "### ***b. Comparison of yearly spend on air tickets***"
   ]
  },
  {
   "cell_type": "code",
   "execution_count": 42,
   "id": "a278174e",
   "metadata": {},
   "outputs": [
    {
     "data": {
      "text/html": [
       "<div>\n",
       "<style scoped>\n",
       "    .dataframe tbody tr th:only-of-type {\n",
       "        vertical-align: middle;\n",
       "    }\n",
       "\n",
       "    .dataframe tbody tr th {\n",
       "        vertical-align: top;\n",
       "    }\n",
       "\n",
       "    .dataframe thead th {\n",
       "        text-align: right;\n",
       "    }\n",
       "</style>\n",
       "<table border=\"1\" class=\"dataframe\">\n",
       "  <thead>\n",
       "    <tr style=\"text-align: right;\">\n",
       "      <th></th>\n",
       "      <th>Customer</th>\n",
       "      <th>Age</th>\n",
       "      <th>City</th>\n",
       "      <th>Product</th>\n",
       "      <th>Limit</th>\n",
       "      <th>Company</th>\n",
       "      <th>Segment</th>\n",
       "      <th>Month</th>\n",
       "      <th>Type</th>\n",
       "      <th>Amount</th>\n",
       "      <th>age_group</th>\n",
       "      <th>year</th>\n",
       "      <th>monthly</th>\n",
       "    </tr>\n",
       "  </thead>\n",
       "  <tbody>\n",
       "    <tr>\n",
       "      <th>0</th>\n",
       "      <td>A1</td>\n",
       "      <td>76</td>\n",
       "      <td>BANGALORE</td>\n",
       "      <td>Gold</td>\n",
       "      <td>500000.0</td>\n",
       "      <td>C1</td>\n",
       "      <td>Self Employed</td>\n",
       "      <td>2004-01-12</td>\n",
       "      <td>JEWELLERY</td>\n",
       "      <td>485470.8</td>\n",
       "      <td>74-82</td>\n",
       "      <td>2004</td>\n",
       "      <td>January</td>\n",
       "    </tr>\n",
       "  </tbody>\n",
       "</table>\n",
       "</div>"
      ],
      "text/plain": [
       "  Customer  Age       City Product     Limit Company        Segment  \\\n",
       "0       A1   76  BANGALORE    Gold  500000.0      C1  Self Employed   \n",
       "\n",
       "       Month       Type    Amount age_group  year  monthly  \n",
       "0 2004-01-12  JEWELLERY  485470.8     74-82  2004  January  "
      ]
     },
     "execution_count": 42,
     "metadata": {},
     "output_type": "execute_result"
    }
   ],
   "source": [
    "ca_sp.head(1)"
   ]
  },
  {
   "cell_type": "code",
   "execution_count": 43,
   "id": "c989df26",
   "metadata": {},
   "outputs": [
    {
     "data": {
      "text/html": [
       "<div>\n",
       "<style scoped>\n",
       "    .dataframe tbody tr th:only-of-type {\n",
       "        vertical-align: middle;\n",
       "    }\n",
       "\n",
       "    .dataframe tbody tr th {\n",
       "        vertical-align: top;\n",
       "    }\n",
       "\n",
       "    .dataframe thead th {\n",
       "        text-align: right;\n",
       "    }\n",
       "</style>\n",
       "<table border=\"1\" class=\"dataframe\">\n",
       "  <thead>\n",
       "    <tr style=\"text-align: right;\">\n",
       "      <th></th>\n",
       "      <th>Customer</th>\n",
       "      <th>Age</th>\n",
       "      <th>City</th>\n",
       "      <th>Product</th>\n",
       "      <th>Limit</th>\n",
       "      <th>Company</th>\n",
       "      <th>Segment</th>\n",
       "      <th>Month</th>\n",
       "      <th>Type</th>\n",
       "      <th>Amount</th>\n",
       "      <th>age_group</th>\n",
       "      <th>year</th>\n",
       "      <th>monthly</th>\n",
       "    </tr>\n",
       "  </thead>\n",
       "  <tbody>\n",
       "    <tr>\n",
       "      <th>9</th>\n",
       "      <td>A1</td>\n",
       "      <td>76</td>\n",
       "      <td>BANGALORE</td>\n",
       "      <td>Gold</td>\n",
       "      <td>500000.0</td>\n",
       "      <td>C1</td>\n",
       "      <td>Self Employed</td>\n",
       "      <td>2006-04-19</td>\n",
       "      <td>AIR TICKET</td>\n",
       "      <td>346925.68</td>\n",
       "      <td>74-82</td>\n",
       "      <td>2006</td>\n",
       "      <td>April</td>\n",
       "    </tr>\n",
       "  </tbody>\n",
       "</table>\n",
       "</div>"
      ],
      "text/plain": [
       "  Customer  Age       City Product     Limit Company        Segment  \\\n",
       "9       A1   76  BANGALORE    Gold  500000.0      C1  Self Employed   \n",
       "\n",
       "       Month        Type     Amount age_group  year monthly  \n",
       "9 2006-04-19  AIR TICKET  346925.68     74-82  2006   April  "
      ]
     },
     "execution_count": 43,
     "metadata": {},
     "output_type": "execute_result"
    }
   ],
   "source": [
    "at = ca_sp.loc[ca_sp.Type =='AIR TICKET', : : ]\n",
    "at.head(1)"
   ]
  },
  {
   "cell_type": "code",
   "execution_count": 44,
   "id": "f8b3316f",
   "metadata": {},
   "outputs": [],
   "source": [
    "ats = at.groupby(['Type','year'])['Amount'].sum().reset_index()"
   ]
  },
  {
   "cell_type": "code",
   "execution_count": 45,
   "id": "336b147a",
   "metadata": {},
   "outputs": [
    {
     "data": {
      "image/png": "[encoded data removed]",
      "text/plain": [
       "<Figure size 640x480 with 1 Axes>"
      ]
     },
     "metadata": {},
     "output_type": "display_data"
    }
   ],
   "source": [
    "plt.bar(ats.year,ats.Amount)\n",
    "plt.xlabel(\"year\")\n",
    "plt.ylabel(\"Amount\")\n",
    "plt.title(\"Comparison of yearly spend on air tickets\")\n",
    "plt.show()"
   ]
  },
  {
   "cell_type": "markdown",
   "id": "1e3523ce",
   "metadata": {},
   "source": [
    " ### ***c. Comparison of monthly spend for each product (look for any seasonality                                                               that exists in terms of spend)***"
   ]
  },
  {
   "cell_type": "code",
   "execution_count": 46,
   "id": "f6b991c1",
   "metadata": {},
   "outputs": [],
   "source": [
    "mss = ca_sp.groupby(['Product','monthly'])['Amount'].sum().reset_index()"
   ]
  },
  {
   "cell_type": "code",
   "execution_count": 47,
   "id": "93f9cf88",
   "metadata": {},
   "outputs": [
    {
     "data": {
      "image/png": "[encoded data removed]",
      "text/plain": [
       "<Figure size 640x480 with 1 Axes>"
      ]
     },
     "metadata": {},
     "output_type": "display_data"
    }
   ],
   "source": [
    "sns.barplot(data = mss , x='Product' , y = 'Amount' , hue = 'monthly' , width = 0.9  )\n",
    "plt.legend( loc = 2, bbox_to_anchor = (1,1))\n",
    "plt.show()"
   ]
  },
  {
   "cell_type": "markdown",
   "id": "6cd1f515",
   "metadata": {},
   "source": [
    "### ***For every product the spending has been highest in months of January and May particularly***"
   ]
  },
  {
   "cell_type": "code",
   "execution_count": null,
   "id": "60b96dc4",
   "metadata": {},
   "outputs": [],
   "source": []
  },
  {
   "cell_type": "markdown",
   "id": "5f188c5f",
   "metadata": {},
   "source": [
    "### ***5. Write user defined PYTHON function to perform the following analysis:                                                       You need to find top 10 customers for each city in terms of their repayment amount by                                                  different products and by different time periods i.e. year or month. The user should be able                                       to specify the product (Gold/Silver/Platinum) and time period (yearly or monthly) and the                                function should automatically take these inputs while identifying the top 10 customers.***"
   ]
  },
  {
   "cell_type": "code",
   "execution_count": 48,
   "id": "4ea8e459",
   "metadata": {},
   "outputs": [],
   "source": [
    "py = ca.merge(rp , how = 'inner' , on = 'Customer')\n",
    "py.drop(columns = ['No','SL No:'] , inplace = True)"
   ]
  },
  {
   "cell_type": "code",
   "execution_count": 49,
   "id": "42a64d4e",
   "metadata": {},
   "outputs": [
    {
     "data": {
      "text/html": [
       "<div>\n",
       "<style scoped>\n",
       "    .dataframe tbody tr th:only-of-type {\n",
       "        vertical-align: middle;\n",
       "    }\n",
       "\n",
       "    .dataframe tbody tr th {\n",
       "        vertical-align: top;\n",
       "    }\n",
       "\n",
       "    .dataframe thead th {\n",
       "        text-align: right;\n",
       "    }\n",
       "</style>\n",
       "<table border=\"1\" class=\"dataframe\">\n",
       "  <thead>\n",
       "    <tr style=\"text-align: right;\">\n",
       "      <th></th>\n",
       "      <th>Customer</th>\n",
       "      <th>Age</th>\n",
       "      <th>City</th>\n",
       "      <th>Product</th>\n",
       "      <th>Limit</th>\n",
       "      <th>Company</th>\n",
       "      <th>Segment</th>\n",
       "      <th>Month</th>\n",
       "      <th>Amount</th>\n",
       "      <th>Month_name</th>\n",
       "      <th>Year_name</th>\n",
       "    </tr>\n",
       "  </thead>\n",
       "  <tbody>\n",
       "    <tr>\n",
       "      <th>0</th>\n",
       "      <td>A1</td>\n",
       "      <td>76</td>\n",
       "      <td>BANGALORE</td>\n",
       "      <td>Gold</td>\n",
       "      <td>500000.0</td>\n",
       "      <td>C1</td>\n",
       "      <td>Self Employed</td>\n",
       "      <td>2004-01-03</td>\n",
       "      <td>245899.02</td>\n",
       "      <td>January</td>\n",
       "      <td>2004</td>\n",
       "    </tr>\n",
       "    <tr>\n",
       "      <th>1</th>\n",
       "      <td>A1</td>\n",
       "      <td>76</td>\n",
       "      <td>BANGALORE</td>\n",
       "      <td>Gold</td>\n",
       "      <td>500000.0</td>\n",
       "      <td>C1</td>\n",
       "      <td>Self Employed</td>\n",
       "      <td>2004-01-15</td>\n",
       "      <td>259490.06</td>\n",
       "      <td>January</td>\n",
       "      <td>2004</td>\n",
       "    </tr>\n",
       "  </tbody>\n",
       "</table>\n",
       "</div>"
      ],
      "text/plain": [
       "  Customer  Age       City Product     Limit Company        Segment  \\\n",
       "0       A1   76  BANGALORE    Gold  500000.0      C1  Self Employed   \n",
       "1       A1   76  BANGALORE    Gold  500000.0      C1  Self Employed   \n",
       "\n",
       "       Month     Amount Month_name Year_name  \n",
       "0 2004-01-03  245899.02    January      2004  \n",
       "1 2004-01-15  259490.06    January      2004  "
      ]
     },
     "execution_count": 49,
     "metadata": {},
     "output_type": "execute_result"
    }
   ],
   "source": [
    "py.head(2)"
   ]
  },
  {
   "cell_type": "code",
   "execution_count": 50,
   "id": "a6fe54bd",
   "metadata": {},
   "outputs": [],
   "source": [
    "def summary_report(product,timeperiod):\n",
    "    if product.lower()=='gold' and timeperiod.lower()=='monthly':\n",
    "        pivot = py.pivot_table(index=['Product','City','Customer'],columns='Month_name',values='Amount',aggfunc='sum')\n",
    "        result = pivot.loc[('Gold',['BANGALORE','COCHIN','CALCUTTA','BOMBAY','CHENNAI','TRIVANDRUM','PATNA','DELHI']),:]\n",
    "        return result\n",
    "    elif product.lower()=='gold' and timeperiod.lower()=='yearly':\n",
    "        pivot = py.pivot_table(index=['Product','City','Customer'],columns='Year_name',values='Amount',aggfunc='sum')\n",
    "        result = pivot.loc[('Gold',['BANGALORE','COCHIN','CALCUTTA','BOMBAY','CHENNAI','TRIVANDRUM','PATNA','DELHI']),:]\n",
    "        return result\n",
    "    elif product.lower()=='silver' and timeperiod.lower()=='monthly':\n",
    "        pivot = customer_repay.pivot_table(index=['Product','City','Customer'],columns='Month_name',values='Amount',aggfunc='sum')\n",
    "        result = pivot.loc[('Silver',['BANGALORE','COCHIN','CALCUTTA','BOMBAY','CHENNAI','TRIVANDRUM','PATNA','DELHI']),:]\n",
    "        return result\n",
    "    elif product.lower()=='silver' and timeperiod.lower()=='yearly':\n",
    "        pivot = customer_repay.pivot_table(index=['Product','City','Customer'],columns='Year_name',values='Amount',aggfunc='sum')\n",
    "        result = pivot.loc[('Silver',['BANGALORE','COCHIN','CALCUTTA','BOMBAY','CHENNAI','TRIVANDRUM','PATNA','DELHI']),:]\n",
    "        return result\n",
    "    if product.lower()=='platinum' and timeperiod.lower()=='monthly':\n",
    "        pivot = customer_repay.pivot_table(index=['Product','City','Customer'],columns='Month_name',values='Amount',aggfunc='sum')\n",
    "        result = pivot.loc[('Platinum',['BANGALORE','COCHIN','CALCUTTA','BOMBAY','CHENNAI','TRIVANDRUM','PATNA','DELHI']),:]\n",
    "        return result\n",
    "    elif product.lower()=='platinum' and timeperiod.lower()=='yearly':\n",
    "        pivot = customer_repay.pivot_table(index=['Product','City','Customer'],columns='Year_name',values='Amount',aggfunc='sum')\n",
    "        result = pivot.loc[('Platinum',['BANGALORE','COCHIN','CALCUTTA','BOMBAY','CHENNAI','TRIVANDRUM','PATNA','DELHI']),:]\n",
    "        return result"
   ]
  },
  {
   "cell_type": "code",
   "execution_count": 51,
   "id": "44f12776",
   "metadata": {},
   "outputs": [
    {
     "data": {
      "text/html": [
       "<div>\n",
       "<style scoped>\n",
       "    .dataframe tbody tr th:only-of-type {\n",
       "        vertical-align: middle;\n",
       "    }\n",
       "\n",
       "    .dataframe tbody tr th {\n",
       "        vertical-align: top;\n",
       "    }\n",
       "\n",
       "    .dataframe thead th {\n",
       "        text-align: right;\n",
       "    }\n",
       "</style>\n",
       "<table border=\"1\" class=\"dataframe\">\n",
       "  <thead>\n",
       "    <tr style=\"text-align: right;\">\n",
       "      <th></th>\n",
       "      <th></th>\n",
       "      <th>Year_name</th>\n",
       "      <th>2004</th>\n",
       "      <th>2005</th>\n",
       "      <th>2006</th>\n",
       "    </tr>\n",
       "    <tr>\n",
       "      <th>Product</th>\n",
       "      <th>City</th>\n",
       "      <th>Customer</th>\n",
       "      <th></th>\n",
       "      <th></th>\n",
       "      <th></th>\n",
       "    </tr>\n",
       "  </thead>\n",
       "  <tbody>\n",
       "    <tr>\n",
       "      <th rowspan=\"38\" valign=\"top\">Gold</th>\n",
       "      <th rowspan=\"9\" valign=\"top\">BANGALORE</th>\n",
       "      <th>A1</th>\n",
       "      <td>1864383.09</td>\n",
       "      <td>1529158.77</td>\n",
       "      <td>864735.06</td>\n",
       "    </tr>\n",
       "    <tr>\n",
       "      <th>A13</th>\n",
       "      <td>2337012.77</td>\n",
       "      <td>3757673.00</td>\n",
       "      <td>3477314.89</td>\n",
       "    </tr>\n",
       "    <tr>\n",
       "      <th>A14</th>\n",
       "      <td>2770261.30</td>\n",
       "      <td>2491981.61</td>\n",
       "      <td>2681025.72</td>\n",
       "    </tr>\n",
       "    <tr>\n",
       "      <th>A30</th>\n",
       "      <td>978777.17</td>\n",
       "      <td>2667746.38</td>\n",
       "      <td>2486958.41</td>\n",
       "    </tr>\n",
       "    <tr>\n",
       "      <th>A43</th>\n",
       "      <td>1906497.47</td>\n",
       "      <td>4006956.60</td>\n",
       "      <td>2576417.39</td>\n",
       "    </tr>\n",
       "    <tr>\n",
       "      <th>A63</th>\n",
       "      <td>788855.60</td>\n",
       "      <td>NaN</td>\n",
       "      <td>211117.12</td>\n",
       "    </tr>\n",
       "    <tr>\n",
       "      <th>A81</th>\n",
       "      <td>NaN</td>\n",
       "      <td>NaN</td>\n",
       "      <td>207780.32</td>\n",
       "    </tr>\n",
       "    <tr>\n",
       "      <th>A88</th>\n",
       "      <td>NaN</td>\n",
       "      <td>NaN</td>\n",
       "      <td>146821.30</td>\n",
       "    </tr>\n",
       "    <tr>\n",
       "      <th>A92</th>\n",
       "      <td>NaN</td>\n",
       "      <td>NaN</td>\n",
       "      <td>459105.69</td>\n",
       "    </tr>\n",
       "    <tr>\n",
       "      <th rowspan=\"8\" valign=\"top\">COCHIN</th>\n",
       "      <th>A11</th>\n",
       "      <td>958556.39</td>\n",
       "      <td>2045470.88</td>\n",
       "      <td>2306906.76</td>\n",
       "    </tr>\n",
       "    <tr>\n",
       "      <th>A16</th>\n",
       "      <td>1122211.16</td>\n",
       "      <td>1226247.16</td>\n",
       "      <td>1911369.63</td>\n",
       "    </tr>\n",
       "    <tr>\n",
       "      <th>A32</th>\n",
       "      <td>344312.67</td>\n",
       "      <td>696673.46</td>\n",
       "      <td>1517308.65</td>\n",
       "    </tr>\n",
       "    <tr>\n",
       "      <th>A45</th>\n",
       "      <td>2557947.39</td>\n",
       "      <td>4042447.57</td>\n",
       "      <td>1847939.91</td>\n",
       "    </tr>\n",
       "    <tr>\n",
       "      <th>A61</th>\n",
       "      <td>2518154.95</td>\n",
       "      <td>4276860.55</td>\n",
       "      <td>3744127.41</td>\n",
       "    </tr>\n",
       "    <tr>\n",
       "      <th>A65</th>\n",
       "      <td>468922.60</td>\n",
       "      <td>230667.34</td>\n",
       "      <td>NaN</td>\n",
       "    </tr>\n",
       "    <tr>\n",
       "      <th>A90</th>\n",
       "      <td>NaN</td>\n",
       "      <td>NaN</td>\n",
       "      <td>109931.32</td>\n",
       "    </tr>\n",
       "    <tr>\n",
       "      <th>A94</th>\n",
       "      <td>153465.89</td>\n",
       "      <td>NaN</td>\n",
       "      <td>NaN</td>\n",
       "    </tr>\n",
       "    <tr>\n",
       "      <th rowspan=\"6\" valign=\"top\">CALCUTTA</th>\n",
       "      <th>A10</th>\n",
       "      <td>892190.53</td>\n",
       "      <td>1246843.93</td>\n",
       "      <td>1556613.06</td>\n",
       "    </tr>\n",
       "    <tr>\n",
       "      <th>A15</th>\n",
       "      <td>1051502.61</td>\n",
       "      <td>1720768.79</td>\n",
       "      <td>2783141.43</td>\n",
       "    </tr>\n",
       "    <tr>\n",
       "      <th>A29</th>\n",
       "      <td>1376793.94</td>\n",
       "      <td>1706779.22</td>\n",
       "      <td>3434298.00</td>\n",
       "    </tr>\n",
       "    <tr>\n",
       "      <th>A31</th>\n",
       "      <td>407599.13</td>\n",
       "      <td>1448641.71</td>\n",
       "      <td>1527798.41</td>\n",
       "    </tr>\n",
       "    <tr>\n",
       "      <th>A60</th>\n",
       "      <td>2890721.81</td>\n",
       "      <td>3742856.10</td>\n",
       "      <td>3242712.83</td>\n",
       "    </tr>\n",
       "    <tr>\n",
       "      <th>A89</th>\n",
       "      <td>NaN</td>\n",
       "      <td>NaN</td>\n",
       "      <td>497237.97</td>\n",
       "    </tr>\n",
       "    <tr>\n",
       "      <th rowspan=\"5\" valign=\"top\">BOMBAY</th>\n",
       "      <th>A12</th>\n",
       "      <td>2339080.90</td>\n",
       "      <td>2877588.30</td>\n",
       "      <td>3118090.96</td>\n",
       "    </tr>\n",
       "    <tr>\n",
       "      <th>A17</th>\n",
       "      <td>1425448.02</td>\n",
       "      <td>731143.83</td>\n",
       "      <td>3127783.14</td>\n",
       "    </tr>\n",
       "    <tr>\n",
       "      <th>A42</th>\n",
       "      <td>3045914.71</td>\n",
       "      <td>3125758.43</td>\n",
       "      <td>1443787.72</td>\n",
       "    </tr>\n",
       "    <tr>\n",
       "      <th>A62</th>\n",
       "      <td>1744114.25</td>\n",
       "      <td>1541617.21</td>\n",
       "      <td>1684085.69</td>\n",
       "    </tr>\n",
       "    <tr>\n",
       "      <th>A91</th>\n",
       "      <td>NaN</td>\n",
       "      <td>NaN</td>\n",
       "      <td>247781.00</td>\n",
       "    </tr>\n",
       "    <tr>\n",
       "      <th rowspan=\"2\" valign=\"top\">CHENNAI</th>\n",
       "      <th>A27</th>\n",
       "      <td>1842823.04</td>\n",
       "      <td>2782591.71</td>\n",
       "      <td>2387485.81</td>\n",
       "    </tr>\n",
       "    <tr>\n",
       "      <th>A67</th>\n",
       "      <td>67845.60</td>\n",
       "      <td>55638.77</td>\n",
       "      <td>NaN</td>\n",
       "    </tr>\n",
       "    <tr>\n",
       "      <th>TRIVANDRUM</th>\n",
       "      <th>A28</th>\n",
       "      <td>965108.49</td>\n",
       "      <td>2827009.82</td>\n",
       "      <td>3376614.65</td>\n",
       "    </tr>\n",
       "    <tr>\n",
       "      <th rowspan=\"3\" valign=\"top\">PATNA</th>\n",
       "      <th>A26</th>\n",
       "      <td>1490427.84</td>\n",
       "      <td>2433837.95</td>\n",
       "      <td>3330421.30</td>\n",
       "    </tr>\n",
       "    <tr>\n",
       "      <th>A66</th>\n",
       "      <td>477039.78</td>\n",
       "      <td>NaN</td>\n",
       "      <td>113094.58</td>\n",
       "    </tr>\n",
       "    <tr>\n",
       "      <th>A95</th>\n",
       "      <td>369405.96</td>\n",
       "      <td>NaN</td>\n",
       "      <td>NaN</td>\n",
       "    </tr>\n",
       "    <tr>\n",
       "      <th rowspan=\"4\" valign=\"top\">DELHI</th>\n",
       "      <th>A44</th>\n",
       "      <td>2149383.50</td>\n",
       "      <td>4165317.77</td>\n",
       "      <td>1430028.85</td>\n",
       "    </tr>\n",
       "    <tr>\n",
       "      <th>A64</th>\n",
       "      <td>NaN</td>\n",
       "      <td>NaN</td>\n",
       "      <td>323229.09</td>\n",
       "    </tr>\n",
       "    <tr>\n",
       "      <th>A82</th>\n",
       "      <td>NaN</td>\n",
       "      <td>NaN</td>\n",
       "      <td>342200.74</td>\n",
       "    </tr>\n",
       "    <tr>\n",
       "      <th>A93</th>\n",
       "      <td>342326.14</td>\n",
       "      <td>NaN</td>\n",
       "      <td>NaN</td>\n",
       "    </tr>\n",
       "  </tbody>\n",
       "</table>\n",
       "</div>"
      ],
      "text/plain": [
       "Year_name                          2004        2005        2006\n",
       "Product City       Customer                                    \n",
       "Gold    BANGALORE  A1        1864383.09  1529158.77   864735.06\n",
       "                   A13       2337012.77  3757673.00  3477314.89\n",
       "                   A14       2770261.30  2491981.61  2681025.72\n",
       "                   A30        978777.17  2667746.38  2486958.41\n",
       "                   A43       1906497.47  4006956.60  2576417.39\n",
       "                   A63        788855.60         NaN   211117.12\n",
       "                   A81              NaN         NaN   207780.32\n",
       "                   A88              NaN         NaN   146821.30\n",
       "                   A92              NaN         NaN   459105.69\n",
       "        COCHIN     A11        958556.39  2045470.88  2306906.76\n",
       "                   A16       1122211.16  1226247.16  1911369.63\n",
       "                   A32        344312.67   696673.46  1517308.65\n",
       "                   A45       2557947.39  4042447.57  1847939.91\n",
       "                   A61       2518154.95  4276860.55  3744127.41\n",
       "                   A65        468922.60   230667.34         NaN\n",
       "                   A90              NaN         NaN   109931.32\n",
       "                   A94        153465.89         NaN         NaN\n",
       "        CALCUTTA   A10        892190.53  1246843.93  1556613.06\n",
       "                   A15       1051502.61  1720768.79  2783141.43\n",
       "                   A29       1376793.94  1706779.22  3434298.00\n",
       "                   A31        407599.13  1448641.71  1527798.41\n",
       "                   A60       2890721.81  3742856.10  3242712.83\n",
       "                   A89              NaN         NaN   497237.97\n",
       "        BOMBAY     A12       2339080.90  2877588.30  3118090.96\n",
       "                   A17       1425448.02   731143.83  3127783.14\n",
       "                   A42       3045914.71  3125758.43  1443787.72\n",
       "                   A62       1744114.25  1541617.21  1684085.69\n",
       "                   A91              NaN         NaN   247781.00\n",
       "        CHENNAI    A27       1842823.04  2782591.71  2387485.81\n",
       "                   A67         67845.60    55638.77         NaN\n",
       "        TRIVANDRUM A28        965108.49  2827009.82  3376614.65\n",
       "        PATNA      A26       1490427.84  2433837.95  3330421.30\n",
       "                   A66        477039.78         NaN   113094.58\n",
       "                   A95        369405.96         NaN         NaN\n",
       "        DELHI      A44       2149383.50  4165317.77  1430028.85\n",
       "                   A64              NaN         NaN   323229.09\n",
       "                   A82              NaN         NaN   342200.74\n",
       "                   A93        342326.14         NaN         NaN"
      ]
     },
     "execution_count": 51,
     "metadata": {},
     "output_type": "execute_result"
    }
   ],
   "source": [
    "summary_report('gold','yearly')"
   ]
  },
  {
   "cell_type": "code",
   "execution_count": null,
   "id": "239e679e",
   "metadata": {},
   "outputs": [],
   "source": []
  },
  {
   "cell_type": "code",
   "execution_count": null,
   "id": "a4487cc1",
   "metadata": {},
   "outputs": [],
   "source": []
  },
  {
   "cell_type": "code",
   "execution_count": null,
   "id": "7950140a",
   "metadata": {},
   "outputs": [],
   "source": []
  },
  {
   "cell_type": "code",
   "execution_count": null,
   "id": "c5a4fcb7",
   "metadata": {},
   "outputs": [],
   "source": []
  },
  {
   "cell_type": "code",
   "execution_count": null,
   "id": "6aa276c2",
   "metadata": {},
   "outputs": [],
   "source": []
  },
  {
   "cell_type": "code",
   "execution_count": null,
   "id": "65a48fc2",
   "metadata": {},
   "outputs": [],
   "source": []
  },
  {
   "cell_type": "code",
   "execution_count": null,
   "id": "d39d7341",
   "metadata": {},
   "outputs": [],
   "source": []
  },
  {
   "cell_type": "code",
   "execution_count": null,
   "id": "845a2d5e",
   "metadata": {},
   "outputs": [],
   "source": []
  }
 ],
 "metadata": {
  "kernelspec": {
   "display_name": "Python 3 (ipykernel)",
   "language": "python",
   "name": "python3"
  },
  "language_info": {
   "codemirror_mode": {
    "name": "ipython",
    "version": 3
   },
   "file_extension": ".py",
   "mimetype": "text/x-python",
   "name": "python",
   "nbconvert_exporter": "python",
   "pygments_lexer": "ipython3",
   "version": "3.10.9"
  }
 },
 "nbformat": 4,
 "nbformat_minor": 5
}
